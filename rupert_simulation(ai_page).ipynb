{
  "nbformat": 4,
  "nbformat_minor": 0,
  "metadata": {
    "colab": {
      "provenance": [],
      "include_colab_link": true
    },
    "kernelspec": {
      "name": "python3",
      "display_name": "Python 3"
    },
    "language_info": {
      "name": "python"
    }
  },
  "cells": [
    {
      "cell_type": "markdown",
      "metadata": {
        "id": "view-in-github",
        "colab_type": "text"
      },
      "source": [
        "<a href=\"https://colab.research.google.com/github/Davichobacter/ds-4geeks/blob/main/rupert_simulation(ai_page).ipynb\" target=\"_parent\"><img src=\"https://colab.research.google.com/assets/colab-badge.svg\" alt=\"Open In Colab\"/></a>"
      ]
    },
    {
      "cell_type": "code",
      "execution_count": null,
      "metadata": {
        "id": "eVnkYhydpwO4"
      },
      "outputs": [],
      "source": [
        "# Simulation inventory problem"
      ]
    },
    {
      "cell_type": "code",
      "source": [
        "import numpy as np\n",
        "import matplotlib.pyplot as plt"
      ],
      "metadata": {
        "id": "I4WyH9VWtUaY"
      },
      "execution_count": 1,
      "outputs": []
    },
    {
      "cell_type": "code",
      "source": [
        "cost  = 0.55\n",
        "price = 1\n",
        "d_min = 60\n",
        "d_max = 100"
      ],
      "metadata": {
        "id": "Eklb4BpfpzrC"
      },
      "execution_count": 2,
      "outputs": []
    },
    {
      "cell_type": "code",
      "source": [
        "def profit(q, trials, d_min, d_max, price,cost):\n",
        "  profits = []\n",
        "  for i in range(trials):\n",
        "    d =  np.random.randint(d_min, d_max) # demanda\n",
        "    s =  abs(q - d) # inventario\n",
        "    income  = d*(price - cost) # ingreso total\n",
        "    if q > d:\n",
        "      profits.append( income - (s*(cost - 0.03)) ) # costo directo\n",
        "    else:\n",
        "      profits.append( income - (s*(price-cost))) # costo de oportunidad\n",
        "  return sum(profits)/len(profits)"
      ],
      "metadata": {
        "id": "YUr_7Wq0qbF0"
      },
      "execution_count": 3,
      "outputs": []
    },
    {
      "cell_type": "code",
      "source": [
        "expected_profits = []\n",
        "trials  = 100000\n",
        "for q in range(d_min, d_max+1):\n",
        "  expected_profits.append(profit(q=q,\n",
        "                                 trials=trials,\n",
        "                                 d_min=d_min,\n",
        "                                 d_max=d_max,\n",
        "                                 price=price,\n",
        "                                 cost=cost))"
      ],
      "metadata": {
        "id": "iL4eXH6StPEz"
      },
      "execution_count": 4,
      "outputs": []
    },
    {
      "cell_type": "code",
      "source": [
        "print(expected_profits)"
      ],
      "metadata": {
        "id": "P6_P6XU7O42x",
        "outputId": "a363a309-b033-4056-d0cb-eba91cb676a9",
        "colab": {
          "base_uri": "https://localhost:8080/"
        }
      },
      "execution_count": 16,
      "outputs": [
        {
          "output_type": "stream",
          "name": "stdout",
          "text": [
            "[27.0, 27.425808200017876, 27.82772529995063, 28.204044100045824, 28.553639399977186, 28.885241200000188, 29.19870400002217, 29.460863499957576, 29.734323500041775, 29.957750899973178, 30.162651300001095, 30.35825910002229, 30.49337769996157, 30.626624200037988, 30.754826699974817, 30.843637500002018, 30.914794300020905, 30.953446399968016, 30.935159500031542, 30.924448299980387, 30.90576370000092, 30.862489600018012, 30.752304899974796, 30.698613000023315, 30.526872099986175, 30.332375000000216, 30.174660300011695, 29.971413799982184, 29.689257800013678, 29.505420999991358, 29.223138900000254, 28.986941500004136, 28.61274219999145, 28.24449870000784, 27.878379499995802, 27.498748200001568, 27.06028639999879, 26.571869599995757, 26.161741500001888, 25.677030099998134, 25.137950200001878]\n"
          ]
        }
      ]
    },
    {
      "cell_type": "code",
      "source": [
        "max_index = np.argmax(expected_profits)\n",
        "print(max_index)\n",
        "print(range(d_min, d_max+1)[max_index] , expected_profits[max_index])"
      ],
      "metadata": {
        "colab": {
          "base_uri": "https://localhost:8080/"
        },
        "id": "ZnCMSi4y483l",
        "outputId": "8386e52d-c6a1-435d-e24d-bcdd70f92880"
      },
      "execution_count": 13,
      "outputs": [
        {
          "output_type": "stream",
          "name": "stdout",
          "text": [
            "17\n",
            "77 30.953446399968016\n"
          ]
        }
      ]
    },
    {
      "cell_type": "code",
      "source": [
        "expected_profits"
      ],
      "metadata": {
        "colab": {
          "base_uri": "https://localhost:8080/"
        },
        "id": "UylY4z6X5eP3",
        "outputId": "73b18c60-8b94-496f-983e-85dd961630b6"
      },
      "execution_count": 6,
      "outputs": [
        {
          "output_type": "execute_result",
          "data": {
            "text/plain": [
              "[27.0,\n",
              " 27.425808200017876,\n",
              " 27.82772529995063,\n",
              " 28.204044100045824,\n",
              " 28.553639399977186,\n",
              " 28.885241200000188,\n",
              " 29.19870400002217,\n",
              " 29.460863499957576,\n",
              " 29.734323500041775,\n",
              " 29.957750899973178,\n",
              " 30.162651300001095,\n",
              " 30.35825910002229,\n",
              " 30.49337769996157,\n",
              " 30.626624200037988,\n",
              " 30.754826699974817,\n",
              " 30.843637500002018,\n",
              " 30.914794300020905,\n",
              " 30.953446399968016,\n",
              " 30.935159500031542,\n",
              " 30.924448299980387,\n",
              " 30.90576370000092,\n",
              " 30.862489600018012,\n",
              " 30.752304899974796,\n",
              " 30.698613000023315,\n",
              " 30.526872099986175,\n",
              " 30.332375000000216,\n",
              " 30.174660300011695,\n",
              " 29.971413799982184,\n",
              " 29.689257800013678,\n",
              " 29.505420999991358,\n",
              " 29.223138900000254,\n",
              " 28.986941500004136,\n",
              " 28.61274219999145,\n",
              " 28.24449870000784,\n",
              " 27.878379499995802,\n",
              " 27.498748200001568,\n",
              " 27.06028639999879,\n",
              " 26.571869599995757,\n",
              " 26.161741500001888,\n",
              " 25.677030099998134,\n",
              " 25.137950200001878]"
            ]
          },
          "metadata": {},
          "execution_count": 6
        }
      ]
    },
    {
      "cell_type": "code",
      "source": [
        "plt.plot(range(d_min, d_max+1), expected_profits )\n",
        "plt.xlabel('Q')\n",
        "plt.ylabel('Profit')\n",
        "plt.show()"
      ],
      "metadata": {
        "colab": {
          "base_uri": "https://localhost:8080/",
          "height": 449
        },
        "id": "g1UKrFiSzGCf",
        "outputId": "8259db41-e29b-43bb-cf4c-7aa3782d417d"
      },
      "execution_count": 17,
      "outputs": [
        {
          "output_type": "display_data",
          "data": {
            "text/plain": [
              "<Figure size 640x480 with 1 Axes>"
            ],
            "image/png": "[encoded data removed]"
          },
          "metadata": {}
        }
      ]
    },
    {
      "cell_type": "code",
      "source": [
        "# 78 -> 30.86\n",
        "# 70 -> 30.142\n",
        "# 90 ->  29.35"
      ],
      "metadata": {
        "id": "-hl5zw0kGGHl"
      },
      "execution_count": 8,
      "outputs": []
    },
    {
      "cell_type": "code",
      "source": [
        "q = 78\n",
        "profits  = []\n",
        "for _ in range(1000000):\n",
        "  d =  np.random.randint(d_min, d_max) # demanda\n",
        "  s =  abs(q - d) # inventario\n",
        "  income  = d*(price - cost) # ingreso total\n",
        "  if q > d:\n",
        "    profits.append( income - (s*(cost - 0.03)) ) # costo directo\n",
        "  else:\n",
        "    profits.append( income - (s*(price-cost))) # costo de oportunidad\n",
        "sum(profits)/len(profits)"
      ],
      "metadata": {
        "colab": {
          "base_uri": "https://localhost:8080/"
        },
        "id": "bfu9e5wRFhNW",
        "outputId": "d24b33fe-4f30-436a-8577-07f1133e9a9e"
      },
      "execution_count": 9,
      "outputs": [
        {
          "output_type": "execute_result",
          "data": {
            "text/plain": [
              "30.94969301026133"
            ]
          },
          "metadata": {},
          "execution_count": 9
        }
      ]
    },
    {
      "cell_type": "code",
      "source": [
        "from scipy.stats import binom\n"
      ],
      "metadata": {
        "id": "uOu3tLkzF9aU"
      },
      "execution_count": 10,
      "outputs": []
    },
    {
      "cell_type": "code",
      "source": [
        "# k - éxitos\n",
        "# n - ensayos\n",
        "# p - success proba\n",
        "binom.pmf(50,100,0.5)"
      ],
      "metadata": {
        "colab": {
          "base_uri": "https://localhost:8080/"
        },
        "id": "gweYgPHBPdeX",
        "outputId": "6918cddf-a922-4991-d84b-4ec79b1ea836"
      },
      "execution_count": 12,
      "outputs": [
        {
          "output_type": "execute_result",
          "data": {
            "text/plain": [
              "np.float64(0.07958923738717875)"
            ]
          },
          "metadata": {},
          "execution_count": 12
        }
      ]
    },
    {
      "cell_type": "code",
      "source": [
        "binom.cdf(50, 100, 0.5)"
      ],
      "metadata": {
        "id": "pQBGDHgWQEH4",
        "outputId": "ea5a39aa-f719-4d98-92a4-3dc28287aaf2",
        "colab": {
          "base_uri": "https://localhost:8080/"
        }
      },
      "execution_count": 11,
      "outputs": [
        {
          "output_type": "execute_result",
          "data": {
            "text/plain": [
              "np.float64(0.5397946186935895)"
            ]
          },
          "metadata": {},
          "execution_count": 11
        }
      ]
    }
  ]
}